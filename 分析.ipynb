{
 "cells": [
  {
   "cell_type": "code",
   "execution_count": null,
   "id": "09123afb-68aa-4749-8f1d-d51e9c059965",
   "metadata": {},
   "outputs": [],
   "source": [
    "sales_analysis.ipynb\n"
   ]
  },
  {
   "cell_type": "code",
   "execution_count": 1,
   "id": "290c8aed-d752-4bf6-a9cd-2917d40a4cec",
   "metadata": {},
   "outputs": [
    {
     "name": "stdout",
     "output_type": "stream",
     "text": [
      "tools imported sucess!\n"
     ]
    }
   ],
   "source": [
    "import pandas as pd\n",
    "import numpy as np\n",
    "print(\"tools imported sucess!\")"
   ]
  },
  {
   "cell_type": "code",
   "execution_count": 2,
   "id": "f582aa97-7f85-4a36-b498-15014cc61560",
   "metadata": {},
   "outputs": [
    {
     "name": "stdout",
     "output_type": "stream",
     "text": [
      "data upload sucess!\n",
      "数据集形状：(8, 7)\n"
     ]
    }
   ],
   "source": [
    "df=pd.read_csv('sales_data.csv')\n",
    "print(\"data upload sucess!\")\n",
    "print(f\"数据集形状：{df.shape}\")"
   ]
  },
  {
   "cell_type": "code",
   "execution_count": 3,
   "id": "ebd889a7-8b0c-411f-8a2a-c6377fd53878",
   "metadata": {},
   "outputs": [
    {
     "data": {
      "text/html": [
       "<div>\n",
       "<style scoped>\n",
       "    .dataframe tbody tr th:only-of-type {\n",
       "        vertical-align: middle;\n",
       "    }\n",
       "\n",
       "    .dataframe tbody tr th {\n",
       "        vertical-align: top;\n",
       "    }\n",
       "\n",
       "    .dataframe thead th {\n",
       "        text-align: right;\n",
       "    }\n",
       "</style>\n",
       "<table border=\"1\" class=\"dataframe\">\n",
       "  <thead>\n",
       "    <tr style=\"text-align: right;\">\n",
       "      <th></th>\n",
       "      <th>订单ID</th>\n",
       "      <th>产品名称</th>\n",
       "      <th>数量</th>\n",
       "      <th>单价</th>\n",
       "      <th>订单日期</th>\n",
       "      <th>客户类型</th>\n",
       "      <th>城市</th>\n",
       "    </tr>\n",
       "  </thead>\n",
       "  <tbody>\n",
       "    <tr>\n",
       "      <th>0</th>\n",
       "      <td>1001</td>\n",
       "      <td>苹果手机</td>\n",
       "      <td>1</td>\n",
       "      <td>5999</td>\n",
       "      <td>2024-01-15</td>\n",
       "      <td>新客户</td>\n",
       "      <td>北京</td>\n",
       "    </tr>\n",
       "    <tr>\n",
       "      <th>1</th>\n",
       "      <td>1002</td>\n",
       "      <td>华为耳机</td>\n",
       "      <td>2</td>\n",
       "      <td>399</td>\n",
       "      <td>2024-01-15</td>\n",
       "      <td>老客户</td>\n",
       "      <td>上海</td>\n",
       "    </tr>\n",
       "    <tr>\n",
       "      <th>2</th>\n",
       "      <td>1003</td>\n",
       "      <td>小米手环</td>\n",
       "      <td>3</td>\n",
       "      <td>199</td>\n",
       "      <td>2024-01-16</td>\n",
       "      <td>新客户</td>\n",
       "      <td>广州</td>\n",
       "    </tr>\n",
       "    <tr>\n",
       "      <th>3</th>\n",
       "      <td>1004</td>\n",
       "      <td>苹果手机</td>\n",
       "      <td>1</td>\n",
       "      <td>5999</td>\n",
       "      <td>2024-01-17</td>\n",
       "      <td>老客户</td>\n",
       "      <td>北京</td>\n",
       "    </tr>\n",
       "    <tr>\n",
       "      <th>4</th>\n",
       "      <td>1005</td>\n",
       "      <td>三星平板</td>\n",
       "      <td>1</td>\n",
       "      <td>3299</td>\n",
       "      <td>2024-01-18</td>\n",
       "      <td>新客户</td>\n",
       "      <td>深圳</td>\n",
       "    </tr>\n",
       "  </tbody>\n",
       "</table>\n",
       "</div>"
      ],
      "text/plain": [
       "   订单ID  产品名称  数量    单价        订单日期 客户类型  城市\n",
       "0  1001  苹果手机   1  5999  2024-01-15  新客户  北京\n",
       "1  1002  华为耳机   2   399  2024-01-15  老客户  上海\n",
       "2  1003  小米手环   3   199  2024-01-16  新客户  广州\n",
       "3  1004  苹果手机   1  5999  2024-01-17  老客户  北京\n",
       "4  1005  三星平板   1  3299  2024-01-18  新客户  深圳"
      ]
     },
     "execution_count": 3,
     "metadata": {},
     "output_type": "execute_result"
    }
   ],
   "source": [
    "df.head()"
   ]
  },
  {
   "cell_type": "code",
   "execution_count": 4,
   "id": "7400b54b-ef69-4fcd-95c4-d2e612a338a9",
   "metadata": {},
   "outputs": [
    {
     "name": "stdout",
     "output_type": "stream",
     "text": [
      "<class 'pandas.core.frame.DataFrame'>\n",
      "RangeIndex: 8 entries, 0 to 7\n",
      "Data columns (total 7 columns):\n",
      " #   Column  Non-Null Count  Dtype \n",
      "---  ------  --------------  ----- \n",
      " 0   订单ID    8 non-null      int64 \n",
      " 1   产品名称    8 non-null      object\n",
      " 2   数量      8 non-null      int64 \n",
      " 3   单价      8 non-null      int64 \n",
      " 4   订单日期    8 non-null      object\n",
      " 5   客户类型    8 non-null      object\n",
      " 6   城市      8 non-null      object\n",
      "dtypes: int64(3), object(4)\n",
      "memory usage: 580.0+ bytes\n"
     ]
    }
   ],
   "source": [
    "df.info()"
   ]
  },
  {
   "cell_type": "code",
   "execution_count": 5,
   "id": "75f7aacf-38dd-4087-8224-ac5012d35da4",
   "metadata": {},
   "outputs": [
    {
     "data": {
      "text/html": [
       "<div>\n",
       "<style scoped>\n",
       "    .dataframe tbody tr th:only-of-type {\n",
       "        vertical-align: middle;\n",
       "    }\n",
       "\n",
       "    .dataframe tbody tr th {\n",
       "        vertical-align: top;\n",
       "    }\n",
       "\n",
       "    .dataframe thead th {\n",
       "        text-align: right;\n",
       "    }\n",
       "</style>\n",
       "<table border=\"1\" class=\"dataframe\">\n",
       "  <thead>\n",
       "    <tr style=\"text-align: right;\">\n",
       "      <th></th>\n",
       "      <th>订单ID</th>\n",
       "      <th>数量</th>\n",
       "      <th>单价</th>\n",
       "    </tr>\n",
       "  </thead>\n",
       "  <tbody>\n",
       "    <tr>\n",
       "      <th>count</th>\n",
       "      <td>8.00000</td>\n",
       "      <td>8.000000</td>\n",
       "      <td>8.000000</td>\n",
       "    </tr>\n",
       "    <tr>\n",
       "      <th>mean</th>\n",
       "      <td>1004.50000</td>\n",
       "      <td>2.000000</td>\n",
       "      <td>2811.500000</td>\n",
       "    </tr>\n",
       "    <tr>\n",
       "      <th>std</th>\n",
       "      <td>2.44949</td>\n",
       "      <td>1.414214</td>\n",
       "      <td>2828.648087</td>\n",
       "    </tr>\n",
       "    <tr>\n",
       "      <th>min</th>\n",
       "      <td>1001.00000</td>\n",
       "      <td>1.000000</td>\n",
       "      <td>199.000000</td>\n",
       "    </tr>\n",
       "    <tr>\n",
       "      <th>25%</th>\n",
       "      <td>1002.75000</td>\n",
       "      <td>1.000000</td>\n",
       "      <td>349.000000</td>\n",
       "    </tr>\n",
       "    <tr>\n",
       "      <th>50%</th>\n",
       "      <td>1004.50000</td>\n",
       "      <td>1.500000</td>\n",
       "      <td>1849.000000</td>\n",
       "    </tr>\n",
       "    <tr>\n",
       "      <th>75%</th>\n",
       "      <td>1006.25000</td>\n",
       "      <td>2.250000</td>\n",
       "      <td>5999.000000</td>\n",
       "    </tr>\n",
       "    <tr>\n",
       "      <th>max</th>\n",
       "      <td>1008.00000</td>\n",
       "      <td>5.000000</td>\n",
       "      <td>5999.000000</td>\n",
       "    </tr>\n",
       "  </tbody>\n",
       "</table>\n",
       "</div>"
      ],
      "text/plain": [
       "             订单ID        数量           单价\n",
       "count     8.00000  8.000000     8.000000\n",
       "mean   1004.50000  2.000000  2811.500000\n",
       "std       2.44949  1.414214  2828.648087\n",
       "min    1001.00000  1.000000   199.000000\n",
       "25%    1002.75000  1.000000   349.000000\n",
       "50%    1004.50000  1.500000  1849.000000\n",
       "75%    1006.25000  2.250000  5999.000000\n",
       "max    1008.00000  5.000000  5999.000000"
      ]
     },
     "execution_count": 5,
     "metadata": {},
     "output_type": "execute_result"
    }
   ],
   "source": [
    "df.describe()"
   ]
  },
  {
   "cell_type": "code",
   "execution_count": 6,
   "id": "43c53d7c-9adf-496c-a6a1-aef496e4fdf8",
   "metadata": {},
   "outputs": [
    {
     "name": "stdout",
     "output_type": "stream",
     "text": [
      "新增销售额字段后数据预览:\n",
      "   订单ID  产品名称  数量    单价        订单日期 客户类型  城市   销售额\n",
      "0  1001  苹果手机   1  5999  2024-01-15  新客户  北京  5999\n",
      "1  1002  华为耳机   2   399  2024-01-15  老客户  上海   798\n",
      "2  1003  小米手环   3   199  2024-01-16  新客户  广州   597\n",
      "3  1004  苹果手机   1  5999  2024-01-17  老客户  北京  5999\n",
      "4  1005  三星平板   1  3299  2024-01-18  新客户  深圳  3299\n",
      "\n",
      "总销售额: ¥30,084.00\n"
     ]
    }
   ],
   "source": [
    "# 创建销售额字段\n",
    "df['销售额'] = df['数量'] * df['单价']\n",
    "\n",
    "# 检查数据\n",
    "print(\"新增销售额字段后数据预览:\")\n",
    "print(df.head())\n",
    "\n",
    "print(f\"\\n总销售额: ¥{df['销售额'].sum():,.2f}\")"
   ]
  },
  {
   "cell_type": "code",
   "execution_count": 7,
   "id": "f66ac9fc-0fa9-4dc2-9908-11ba721a73f6",
   "metadata": {},
   "outputs": [
    {
     "data": {
      "text/html": [
       "<div>\n",
       "<style scoped>\n",
       "    .dataframe tbody tr th:only-of-type {\n",
       "        vertical-align: middle;\n",
       "    }\n",
       "\n",
       "    .dataframe tbody tr th {\n",
       "        vertical-align: top;\n",
       "    }\n",
       "\n",
       "    .dataframe thead th {\n",
       "        text-align: right;\n",
       "    }\n",
       "</style>\n",
       "<table border=\"1\" class=\"dataframe\">\n",
       "  <thead>\n",
       "    <tr style=\"text-align: right;\">\n",
       "      <th></th>\n",
       "      <th>订单ID</th>\n",
       "      <th>产品名称</th>\n",
       "      <th>数量</th>\n",
       "      <th>单价</th>\n",
       "      <th>订单日期</th>\n",
       "      <th>客户类型</th>\n",
       "      <th>城市</th>\n",
       "      <th>销售额</th>\n",
       "    </tr>\n",
       "  </thead>\n",
       "  <tbody>\n",
       "    <tr>\n",
       "      <th>0</th>\n",
       "      <td>1001</td>\n",
       "      <td>苹果手机</td>\n",
       "      <td>1</td>\n",
       "      <td>5999</td>\n",
       "      <td>2024-01-15</td>\n",
       "      <td>新客户</td>\n",
       "      <td>北京</td>\n",
       "      <td>5999</td>\n",
       "    </tr>\n",
       "    <tr>\n",
       "      <th>1</th>\n",
       "      <td>1002</td>\n",
       "      <td>华为耳机</td>\n",
       "      <td>2</td>\n",
       "      <td>399</td>\n",
       "      <td>2024-01-15</td>\n",
       "      <td>老客户</td>\n",
       "      <td>上海</td>\n",
       "      <td>798</td>\n",
       "    </tr>\n",
       "    <tr>\n",
       "      <th>2</th>\n",
       "      <td>1003</td>\n",
       "      <td>小米手环</td>\n",
       "      <td>3</td>\n",
       "      <td>199</td>\n",
       "      <td>2024-01-16</td>\n",
       "      <td>新客户</td>\n",
       "      <td>广州</td>\n",
       "      <td>597</td>\n",
       "    </tr>\n",
       "    <tr>\n",
       "      <th>3</th>\n",
       "      <td>1004</td>\n",
       "      <td>苹果手机</td>\n",
       "      <td>1</td>\n",
       "      <td>5999</td>\n",
       "      <td>2024-01-17</td>\n",
       "      <td>老客户</td>\n",
       "      <td>北京</td>\n",
       "      <td>5999</td>\n",
       "    </tr>\n",
       "    <tr>\n",
       "      <th>4</th>\n",
       "      <td>1005</td>\n",
       "      <td>三星平板</td>\n",
       "      <td>1</td>\n",
       "      <td>3299</td>\n",
       "      <td>2024-01-18</td>\n",
       "      <td>新客户</td>\n",
       "      <td>深圳</td>\n",
       "      <td>3299</td>\n",
       "    </tr>\n",
       "  </tbody>\n",
       "</table>\n",
       "</div>"
      ],
      "text/plain": [
       "   订单ID  产品名称  数量    单价        订单日期 客户类型  城市   销售额\n",
       "0  1001  苹果手机   1  5999  2024-01-15  新客户  北京  5999\n",
       "1  1002  华为耳机   2   399  2024-01-15  老客户  上海   798\n",
       "2  1003  小米手环   3   199  2024-01-16  新客户  广州   597\n",
       "3  1004  苹果手机   1  5999  2024-01-17  老客户  北京  5999\n",
       "4  1005  三星平板   1  3299  2024-01-18  新客户  深圳  3299"
      ]
     },
     "execution_count": 7,
     "metadata": {},
     "output_type": "execute_result"
    }
   ],
   "source": [
    "df.head()"
   ]
  },
  {
   "cell_type": "code",
   "execution_count": 8,
   "id": "0daf2e14-4a2f-40eb-8738-94c991d8cff5",
   "metadata": {},
   "outputs": [
    {
     "ename": "TypeError",
     "evalue": "'tuple' object is not callable",
     "output_type": "error",
     "traceback": [
      "\u001b[31m---------------------------------------------------------------------------\u001b[39m",
      "\u001b[31mTypeError\u001b[39m                                 Traceback (most recent call last)",
      "\u001b[36mCell\u001b[39m\u001b[36m \u001b[39m\u001b[32mIn[8]\u001b[39m\u001b[32m, line 1\u001b[39m\n\u001b[32m----> \u001b[39m\u001b[32m1\u001b[39m \u001b[43mdf\u001b[49m\u001b[43m.\u001b[49m\u001b[43mshape\u001b[49m\u001b[43m(\u001b[49m\u001b[43m)\u001b[49m\n",
      "\u001b[31mTypeError\u001b[39m: 'tuple' object is not callable"
     ]
    }
   ],
   "source": [
    "df.shape()"
   ]
  },
  {
   "cell_type": "code",
   "execution_count": 9,
   "id": "aa5a3a1a-e3b2-499e-8864-5d76204dbc2a",
   "metadata": {},
   "outputs": [
    {
     "data": {
      "text/plain": [
       "(8, 8)"
      ]
     },
     "execution_count": 9,
     "metadata": {},
     "output_type": "execute_result"
    }
   ],
   "source": [
    "df.shape"
   ]
  },
  {
   "cell_type": "code",
   "execution_count": 10,
   "id": "37051a69-c2f5-42cf-b58c-a24fdd7875fb",
   "metadata": {},
   "outputs": [
    {
     "name": "stdout",
     "output_type": "stream",
     "text": [
      "各城市新客户数量：\n",
      "城市\n",
      "北京    1\n",
      "广州    2\n",
      "深圳    1\n",
      "Name: 订单ID, dtype: int64\n"
     ]
    }
   ],
   "source": [
    "new_customer_count = df[df['客户类型'] == '新客户'].groupby('城市')['订单ID'].nunique()\n",
    "print(\"各城市新客户数量：\")\n",
    "print(new_customer_count)"
   ]
  },
  {
   "cell_type": "code",
   "execution_count": 11,
   "id": "a7c65f5f-7637-4fe5-85a3-1b2d0b77a728",
   "metadata": {},
   "outputs": [
    {
     "name": "stdout",
     "output_type": "stream",
     "text": [
      "\n",
      "各城市平均客单价：\n",
      "          平均客单价\n",
      "城市             \n",
      "上海   598.500000\n",
      "北京  7998.666667\n",
      "广州   796.000000\n",
      "深圳  3299.000000\n"
     ]
    }
   ],
   "source": [
    "city_metrics = df.groupby('城市').agg({\n",
    "    '销售额': 'sum',\n",
    "    '订单ID': 'nunique'\n",
    "}).rename(columns={'订单ID': '总订单数'})\n",
    "\n",
    "city_metrics['平均客单价'] = city_metrics['销售额'] / city_metrics['总订单数']\n",
    "print(\"\\n各城市平均客单价：\")\n",
    "print(city_metrics[['平均客单价']])"
   ]
  },
  {
   "cell_type": "code",
   "execution_count": 12,
   "id": "768c1756-302b-4877-9410-7a7bd1100481",
   "metadata": {},
   "outputs": [
    {
     "name": "stdout",
     "output_type": "stream",
     "text": [
      "=== 开店优先级分析 ===\n",
      "    新客户数量        平均客单价        开店优先级\n",
      "城市                                 \n",
      "北京    1.0  7998.666667  7998.666667\n",
      "深圳    1.0  3299.000000  3299.000000\n",
      "广州    2.0   796.000000  1592.000000\n",
      "上海    NaN   598.500000          NaN\n",
      "\n",
      "🎯 推荐开店城市：北京\n",
      "   - 新客户数量：1.0个\n",
      "   - 平均客单价：¥7,999\n",
      "   - 优先级分数：7999\n"
     ]
    }
   ],
   "source": [
    "# 创建开店优先级数据\n",
    "priority_df = pd.DataFrame({\n",
    "    '新客户数量': new_customer_count,\n",
    "    '平均客单价': city_metrics['平均客单价']\n",
    "})\n",
    "\n",
    "# 计算开店优先级 = 新客户数量 × 平均客单价\n",
    "priority_df['开店优先级'] = priority_df['新客户数量'] * priority_df['平均客单价']\n",
    "\n",
    "# 按优先级排序\n",
    "priority_df = priority_df.sort_values('开店优先级', ascending=False)\n",
    "\n",
    "print(\"=== 开店优先级分析 ===\")\n",
    "print(priority_df)\n",
    "\n",
    "print(f\"\\n🎯 推荐开店城市：{priority_df.index[0]}\")\n",
    "print(f\"   - 新客户数量：{priority_df.iloc[0]['新客户数量']}个\")\n",
    "print(f\"   - 平均客单价：¥{priority_df.iloc[0]['平均客单价']:,.0f}\")\n",
    "print(f\"   - 优先级分数：{priority_df.iloc[0]['开店优先级']:.0f}\")"
   ]
  },
  {
   "cell_type": "code",
   "execution_count": null,
   "id": "e5638a71-d2d6-4bf3-8b34-7c3119c85d1c",
   "metadata": {},
   "outputs": [],
   "source": []
  }
 ],
 "metadata": {
  "kernelspec": {
   "display_name": "Python 3 (ipykernel)",
   "language": "python",
   "name": "python3"
  },
  "language_info": {
   "codemirror_mode": {
    "name": "ipython",
    "version": 3
   },
   "file_extension": ".py",
   "mimetype": "text/x-python",
   "name": "python",
   "nbconvert_exporter": "python",
   "pygments_lexer": "ipython3",
   "version": "3.13.7"
  }
 },
 "nbformat": 4,
 "nbformat_minor": 5
}
